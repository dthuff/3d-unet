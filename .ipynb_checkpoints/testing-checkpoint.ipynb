{
 "cells": [
  {
   "cell_type": "code",
   "execution_count": 1,
   "metadata": {},
   "outputs": [
    {
     "name": "stderr",
     "output_type": "stream",
     "text": [
      "Using TensorFlow backend.\n"
     ]
    }
   ],
   "source": [
    "import numpy as np\n",
    "from data_loading import *\n",
    "import matplotlib.pyplot as plt\n",
    "%matplotlib inline"
   ]
  },
  {
   "cell_type": "code",
   "execution_count": 9,
   "metadata": {},
   "outputs": [
    {
     "name": "stdout",
     "output_type": "stream",
     "text": [
      "(19, 19, 75, 64, 64, 64)\n"
     ]
    }
   ],
   "source": [
    "img = load_nii('../data/liver_only/image/10000005_CT_0mean1std_notCropped_2mmVoxel.nii.gz')\n",
    "mask =load_nii('../data/liver_only/mask/10000005_organlabel_58_notCropped_2mmVoxel.nii.gz') \n",
    "image_size = np.size(img)\n",
    "patch_shape = (64, 64, 64)\n",
    "extraction_step = 8\n",
    "patches = extract_patches(img, patch_shape=patch_shape,extraction_step=extraction_step)\n",
    "mask_patches = extract_patches(mask, patch_shape=patch_shape,extraction_step=extraction_step)\n",
    "print(np.shape(mask_patches))"
   ]
  },
  {
   "cell_type": "code",
   "execution_count": null,
   "metadata": {},
   "outputs": [],
   "source": [
    "\n",
    "\n",
    "trained_model = unet3d_3blocks(pretrained_weights='./saved_models/liver_segmentation.h5',input_size = (*patch_size, 1), num_classes=num_classes)\n",
    "val_preds = trained_model.predict(val_gen)\n",
    "print(np.shape(val_preds))"
   ]
  },
  {
   "cell_type": "code",
   "execution_count": null,
   "metadata": {},
   "outputs": [],
   "source": [
    "n=np.size(patches, axis=0)\n",
    "z = 45\n",
    "plt.figure(figsize=[9,9])\n",
    "for i in range(n):\n",
    "    for j in range(n):\n",
    "        plt.subplot(n,n,n*i+j+1)\n",
    "        plt.imshow(patches[i,j,z,:,:,0],vmin=-2, vmax=2,cmap='bone')"
   ]
  },
  {
   "cell_type": "code",
   "execution_count": null,
   "metadata": {},
   "outputs": [],
   "source": [
    "\n",
    " "
   ]
  },
  {
   "cell_type": "code",
   "execution_count": 6,
   "metadata": {},
   "outputs": [],
   "source": [
    "def build_from_patches(patches, image_size, extraction_step):\n",
    "    '''reconstruct a single 3D image volume from a bunch of patches\n",
    "    patches has shape [i,j,k,x,y,z] where i,j,k are number of patches in each dimension and x,y,z is patch shape\n",
    "    image_size is tuple (3,) - the size of the whole image\n",
    "    extraction_step is scalar - the extraction step used to generate the patches'''\n",
    "    \n",
    "    img = np.zeros(image_size)\n",
    "    patch_size = np.shape(patches)[-3:]\n",
    "\n",
    "    print(np.shape(patches))\n",
    "    for i in range(np.size(patches, 0)):\n",
    "        for j in range(np.size(patches, 1)):\n",
    "            for k in range(np.size(patches,2)):\n",
    "                img[i*extraction_step:i*extraction_step+patch_size[0],\n",
    "                   j*extraction_step:j*extraction_step+patch_size[1],\n",
    "                   k*extraction_step:k*extraction_step+patch_size[2]] = patches[i,j,k,:,:,:]\n",
    "    return img"
   ]
  },
  {
   "cell_type": "code",
   "execution_count": 11,
   "metadata": {},
   "outputs": [
    {
     "ename": "IndexError",
     "evalue": "too many indices for array",
     "output_type": "error",
     "traceback": [
      "\u001b[0;31m---------------------------------------------------------------------------\u001b[0m",
      "\u001b[0;31mIndexError\u001b[0m                                Traceback (most recent call last)",
      "\u001b[0;32m<ipython-input-11-f62ca71af5f3>\u001b[0m in \u001b[0;36m<module>\u001b[0;34m\u001b[0m\n\u001b[0;32m----> 1\u001b[0;31m \u001b[0mimg\u001b[0m \u001b[0;34m=\u001b[0m \u001b[0mbuild_from_patches\u001b[0m\u001b[0;34m(\u001b[0m\u001b[0mpatches\u001b[0m\u001b[0;34m,\u001b[0m \u001b[0mimage_size\u001b[0m\u001b[0;34m,\u001b[0m \u001b[0mextraction_step\u001b[0m\u001b[0;34m)\u001b[0m\u001b[0;34m\u001b[0m\u001b[0;34m\u001b[0m\u001b[0m\n\u001b[0m\u001b[1;32m      2\u001b[0m \u001b[0;34m\u001b[0m\u001b[0m\n\u001b[1;32m      3\u001b[0m \u001b[0;34m\u001b[0m\u001b[0m\n\u001b[1;32m      4\u001b[0m \u001b[0mplt\u001b[0m\u001b[0;34m.\u001b[0m\u001b[0mfigure\u001b[0m\u001b[0;34m(\u001b[0m\u001b[0mfigsize\u001b[0m\u001b[0;34m=\u001b[0m\u001b[0;34m[\u001b[0m\u001b[0;36m8\u001b[0m\u001b[0;34m,\u001b[0m\u001b[0;36m8\u001b[0m\u001b[0;34m]\u001b[0m\u001b[0;34m)\u001b[0m\u001b[0;34m\u001b[0m\u001b[0;34m\u001b[0m\u001b[0m\n\u001b[1;32m      5\u001b[0m \u001b[0mplt\u001b[0m\u001b[0;34m.\u001b[0m\u001b[0mimshow\u001b[0m\u001b[0;34m(\u001b[0m\u001b[0mimg\u001b[0m\u001b[0;34m[\u001b[0m\u001b[0;34m:\u001b[0m\u001b[0;34m,\u001b[0m\u001b[0;34m:\u001b[0m\u001b[0;34m,\u001b[0m\u001b[0;36m200\u001b[0m\u001b[0;34m]\u001b[0m\u001b[0;34m,\u001b[0m \u001b[0mvmin\u001b[0m\u001b[0;34m=\u001b[0m\u001b[0;34m-\u001b[0m\u001b[0;36m2\u001b[0m\u001b[0;34m,\u001b[0m \u001b[0mvmax\u001b[0m\u001b[0;34m=\u001b[0m\u001b[0;36m2\u001b[0m\u001b[0;34m,\u001b[0m\u001b[0mcmap\u001b[0m\u001b[0;34m=\u001b[0m\u001b[0;34m'bone'\u001b[0m\u001b[0;34m)\u001b[0m\u001b[0;34m\u001b[0m\u001b[0;34m\u001b[0m\u001b[0m\n",
      "\u001b[0;32m<ipython-input-6-2f689ac48e6a>\u001b[0m in \u001b[0;36mbuild_from_patches\u001b[0;34m(patches, image_size, extraction_step)\u001b[0m\n\u001b[1;32m     13\u001b[0m                 img[i*extraction_step:i*extraction_step+patch_size[0],\n\u001b[1;32m     14\u001b[0m                    \u001b[0mj\u001b[0m\u001b[0;34m*\u001b[0m\u001b[0mextraction_step\u001b[0m\u001b[0;34m:\u001b[0m\u001b[0mj\u001b[0m\u001b[0;34m*\u001b[0m\u001b[0mextraction_step\u001b[0m\u001b[0;34m+\u001b[0m\u001b[0mpatch_size\u001b[0m\u001b[0;34m[\u001b[0m\u001b[0;36m1\u001b[0m\u001b[0;34m]\u001b[0m\u001b[0;34m,\u001b[0m\u001b[0;34m\u001b[0m\u001b[0;34m\u001b[0m\u001b[0m\n\u001b[0;32m---> 15\u001b[0;31m                    k*extraction_step:k*extraction_step+patch_size[2]] = patches[i,j,k,:,:,:]\n\u001b[0m\u001b[1;32m     16\u001b[0m     \u001b[0;32mreturn\u001b[0m \u001b[0mimg\u001b[0m\u001b[0;34m\u001b[0m\u001b[0;34m\u001b[0m\u001b[0m\n",
      "\u001b[0;31mIndexError\u001b[0m: too many indices for array"
     ]
    }
   ],
   "source": [
    "img = build_from_patches(patches, image_size, extraction_step)\n",
    "\n",
    "    \n",
    "plt.figure(figsize=[8,8])\n",
    "plt.imshow(img[:,:,200], vmin=-2, vmax=2,cmap='bone')"
   ]
  }
 ],
 "metadata": {
  "kernelspec": {
   "display_name": "Python 3",
   "language": "python",
   "name": "python3"
  },
  "language_info": {
   "codemirror_mode": {
    "name": "ipython",
    "version": 3
   },
   "file_extension": ".py",
   "mimetype": "text/x-python",
   "name": "python",
   "nbconvert_exporter": "python",
   "pygments_lexer": "ipython3",
   "version": "3.7.7"
  }
 },
 "nbformat": 4,
 "nbformat_minor": 4
}
